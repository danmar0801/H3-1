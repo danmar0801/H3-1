{
 "cells": [
  {
   "cell_type": "code",
   "execution_count": 1,
   "metadata": {},
   "outputs": [
    {
     "name": "stdout",
     "output_type": "stream",
     "text": [
      "003: 89468907704504\n",
      "012: 74184310421\n",
      "102: 34528784533\n",
      "021D: 18501168\n",
      "021U: 89375507\n",
      "021C: 19227090\n",
      "111D: 30179774\n",
      "111U: 19700828\n",
      "030T: 3400791\n",
      "030C: 23165\n",
      "201: 13861389\n",
      "120D: 2089310\n",
      "120U: 2473737\n",
      "120C: 546214\n",
      "210: 2730985\n",
      "300: 1818304\n"
     ]
    }
   ],
   "source": [
    "import gzip\n",
    "import networkx as nx\n",
    "\n",
    "# Load the Twitter data from the gzipped file as a directed graph\n",
    "with gzip.open('twitter_combined.txt.gz', 'rt') as f:\n",
    "    G_directed = nx.parse_edgelist(f, nodetype=int, create_using=nx.DiGraph())\n",
    "\n",
    "# Conduct the triadic census\n",
    "triadic_census = nx.algorithms.triads.triadic_census(G_directed)\n",
    "\n",
    "# Output the results\n",
    "for triad_type, count in triadic_census.items():\n",
    "    print(f\"{triad_type}: {count}\")\n"
   ]
  },
  {
   "cell_type": "code",
   "execution_count": 2,
   "metadata": {},
   "outputs": [],
   "source": [
    "import gzip\n",
    "import networkx as nx\n",
    "import numpy as np\n",
    "import matplotlib.pyplot as plt\n",
    "plt.switch_backend('Agg')  # Use a non-interactive backend"
   ]
  },
  {
   "cell_type": "code",
   "execution_count": 3,
   "metadata": {},
   "outputs": [],
   "source": [
    "# Load the Twitter data and create a directed graph\n",
    "with gzip.open('twitter_combined.txt.gz', 'rt') as f:\n",
    "    G_directed = nx.parse_edgelist(f, create_using=nx.DiGraph())"
   ]
  },
  {
   "cell_type": "code",
   "execution_count": 4,
   "metadata": {},
   "outputs": [],
   "source": [
    "# Use only the largest connected component for faster processing\n",
    "largest_cc = max(nx.connected_components(G_directed.to_undirected()), key=len)\n",
    "G_undirected = G_directed.subgraph(largest_cc).to_undirected()"
   ]
  },
  {
   "cell_type": "code",
   "execution_count": null,
   "metadata": {},
   "outputs": [],
   "source": [
    "# Calculate centrality measures on the undirected graph\n",
    "degree_centrality = nx.degree_centrality(G_undirected)\n",
    "closeness_centrality = nx.closeness_centrality(G_undirected)\n",
    "betweenness_centrality = nx.betweenness_centrality(G_undirected, k=100, normalized=True, seed=7)"
   ]
  },
  {
   "cell_type": "code",
   "execution_count": null,
   "metadata": {},
   "outputs": [],
   "source": [
    "# Generate and save histograms for each centrality measure\n",
    "centrality_measures = [degree_centrality, closeness_centrality, betweenness_centrality]\n",
    "titles = ['Degree Centrality', 'Closeness Centrality', 'Betweenness Centrality']"
   ]
  },
  {
   "cell_type": "code",
   "execution_count": null,
   "metadata": {},
   "outputs": [],
   "source": [
    "for centrality, title in zip(centrality_measures, titles):\n",
    "    plt.figure(figsize=(10, 4))\n",
    "    plt.hist(centrality.values(), bins=100)\n",
    "    plt.title(title)\n",
    "    plt.savefig(f\"{title.replace(' ', '_')}.png\")\n",
    "    plt.close()"
   ]
  },
  {
   "cell_type": "code",
   "execution_count": null,
   "metadata": {},
   "outputs": [],
   "source": [
    "# Instead of analyzing the top nodes, let's just print the mean centrality values\n",
    "print(\"Mean Degree Centrality:\", np.mean(list(degree_centrality.values())))\n",
    "print(\"Mean Closeness Centrality:\", np.mean(list(closeness_centrality.values())))\n",
    "print(\"Mean Betweenness Centrality:\", np.mean(list(betweenness_centrality.values())))"
   ]
  }
 ],
 "metadata": {
  "kernelspec": {
   "display_name": "Python 3",
   "language": "python",
   "name": "python3"
  },
  "language_info": {
   "codemirror_mode": {
    "name": "ipython",
    "version": 3
   },
   "file_extension": ".py",
   "mimetype": "text/x-python",
   "name": "python",
   "nbconvert_exporter": "python",
   "pygments_lexer": "ipython3",
   "version": "3.8.5"
  }
 },
 "nbformat": 4,
 "nbformat_minor": 2
}
